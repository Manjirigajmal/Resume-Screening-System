{
 "cells": [
  {
   "cell_type": "markdown",
   "id": "24d71b2a-3994-46a3-9302-3dc913fe48cc",
   "metadata": {},
   "source": [
    "# **AI-Powered Resume Screening System using NLP and TF-IDF Matching**"
   ]
  },
  {
   "cell_type": "markdown",
   "id": "2c550a15-4d2e-40f6-b9bd-9de795413e48",
   "metadata": {},
   "source": [
    "## Problem Statement \n",
    "\n",
    "Recruiters often spend hours manually reviewing resumes to find the right candidates for job roles. This process is time-consuming, prone to bias, and can lead to qualified candidates being overlooked due to information overload and inconsistent criteria."
   ]
  },
  {
   "cell_type": "markdown",
   "id": "a758448d-4677-49dc-8dbb-17024a317439",
   "metadata": {},
   "source": [
    "## Objective\n",
    "\n",
    "To develop an automated system that analyzes candidate resumes, compares them to a specific job description, and ranks applicants based on best fit—leveraging Natural Language Processing (NLP) and machine learning techniques.\n",
    "\n"
   ]
  },
  {
   "cell_type": "markdown",
   "id": "9ad79d64-3ddd-46dd-8d81-c0ece029b7a7",
   "metadata": {},
   "source": [
    "## Solution Approach:\n",
    "1. Data Collection\n",
    "- Gathered a dataset of 25 synthetic resumes, each containing key candidate details such as skills, education, experience, projects, and certifications.\n",
    "\n",
    "2. Text Preprocessing\n",
    "- Cleaned and standardized the resume text (lowercasing, punctuation removal, stopwords, lemmatization).\n",
    "- Combined key sections into a single textual block for each resume to streamline NLP processing.\n",
    "\n",
    "3. Information Extraction\n",
    "- Used NLP techniques to extract and normalize candidate skills, qualifications, and experience.\n",
    "- Parsed the job description (JD) to identify and extract required skills and criteria.\n",
    "\n",
    "4. Feature Engineering\n",
    "- Skill Overlap: Counted matched keywords between resume and JD.\n",
    "- Education Match: Identified if resume included required degrees.\n",
    "- Relevant Experience: Estimated years using date extraction heuristics.\n",
    "- Semantic Matching: Applied TF-IDF Vectorization to compare resume and JD content for deeper similarity scoring.\n",
    "\n",
    "5. Resume Ranking\n",
    "- Combined all extracted features into a final matching score.\n",
    "- Ranked resumes based on this score to identify top candidates.\n",
    "- Exported the ranked results as a CSV for recruiter review and further processing.\n",
    "\n",
    "\n",
    "\n"
   ]
  },
  {
   "cell_type": "markdown",
   "id": "4d7fcdbf-ce43-4d22-b5dd-f8ac84b3a8ad",
   "metadata": {},
   "source": [
    "### **Job Description (JD) Used for Resume Screening**\n",
    "\n",
    "**Job Title:** Data Analyst\n",
    "\n",
    "We are seeking a Data Analyst with:\n",
    "\n",
    "- **Strong Python and SQL skills**\n",
    "- **Experience with Tableau or Power BI**\n",
    "- **Knowledge of data visualization, statistics, and ML**\n",
    "- **Preferred: knowledge of pandas, numpy, scikit-learn**\n",
    "- **Excellent communication skills**\n"
   ]
  },
  {
   "cell_type": "markdown",
   "id": "f0e8e0e2-05ed-4bf1-8be4-6e0941153a09",
   "metadata": {},
   "source": [
    "## Initializing Resume Screening Pipeline: Library Imports and Data Ingestion"
   ]
  },
  {
   "cell_type": "code",
   "execution_count": 1,
   "id": "ae2a8815-12c1-4380-8ea1-3378b03cab0c",
   "metadata": {},
   "outputs": [],
   "source": [
    "# --- Step 1: Import Libraries ---\n",
    "import pandas as pd\n",
    "import re\n",
    "import numpy as np\n",
    "import matplotlib.pyplot as plt\n",
    "\n",
    "\n"
   ]
  },
  {
   "cell_type": "code",
   "execution_count": 2,
   "id": "86ef085c-6db4-4e48-b367-edfbeb2a9b58",
   "metadata": {},
   "outputs": [],
   "source": [
    "# Step 2: Load Resume Data\n",
    "df = pd.read_csv(\"synthetic_resumes.csv\")"
   ]
  },
  {
   "cell_type": "markdown",
   "id": "8892d6cf-7fa1-4359-916f-81649ca96c4a",
   "metadata": {},
   "source": [
    "## Resume Dataset Overview & Integrity Check"
   ]
  },
  {
   "cell_type": "code",
   "execution_count": 3,
   "id": "61354ea8-d0c0-4edb-997e-a1103cd9fde5",
   "metadata": {
    "jupyter": {
     "source_hidden": true
    }
   },
   "outputs": [
    {
     "name": "stdout",
     "output_type": "stream",
     "text": [
      "<class 'pandas.core.frame.DataFrame'>\n",
      "RangeIndex: 25 entries, 0 to 24\n",
      "Data columns (total 9 columns):\n",
      " #   Column          Non-Null Count  Dtype \n",
      "---  ------          --------------  ----- \n",
      " 0   Name            25 non-null     object\n",
      " 1   Email           25 non-null     object\n",
      " 2   Phone           25 non-null     object\n",
      " 3   Summary         25 non-null     object\n",
      " 4   Skills          25 non-null     object\n",
      " 5   Education       25 non-null     object\n",
      " 6   Experience      25 non-null     object\n",
      " 7   Projects        25 non-null     object\n",
      " 8   Certifications  25 non-null     object\n",
      "dtypes: object(9)\n",
      "memory usage: 1.9+ KB\n"
     ]
    }
   ],
   "source": [
    "df.info()"
   ]
  },
  {
   "cell_type": "code",
   "execution_count": 4,
   "id": "b33f7ed0-64ae-4069-820b-5c83500c5e22",
   "metadata": {},
   "outputs": [
    {
     "data": {
      "text/html": [
       "<div>\n",
       "<style scoped>\n",
       "    .dataframe tbody tr th:only-of-type {\n",
       "        vertical-align: middle;\n",
       "    }\n",
       "\n",
       "    .dataframe tbody tr th {\n",
       "        vertical-align: top;\n",
       "    }\n",
       "\n",
       "    .dataframe thead th {\n",
       "        text-align: right;\n",
       "    }\n",
       "</style>\n",
       "<table border=\"1\" class=\"dataframe\">\n",
       "  <thead>\n",
       "    <tr style=\"text-align: right;\">\n",
       "      <th></th>\n",
       "      <th>Name</th>\n",
       "      <th>Email</th>\n",
       "      <th>Phone</th>\n",
       "      <th>Summary</th>\n",
       "      <th>Skills</th>\n",
       "      <th>Education</th>\n",
       "      <th>Experience</th>\n",
       "      <th>Projects</th>\n",
       "      <th>Certifications</th>\n",
       "    </tr>\n",
       "  </thead>\n",
       "  <tbody>\n",
       "    <tr>\n",
       "      <th>0</th>\n",
       "      <td>Priya Sharma</td>\n",
       "      <td>priya.sharma@email.com</td>\n",
       "      <td>+91-9340608368</td>\n",
       "      <td>Detail-oriented Data Analyst with 3+ years of ...</td>\n",
       "      <td>Python, SQL, Tableau, Machine Learning, Pandas...</td>\n",
       "      <td>M.Sc. in Statistics, University of Mumbai, 2019</td>\n",
       "      <td>ABC Analytics, Data Analyst (Jul 2019 – Presen...</td>\n",
       "      <td>Customer Churn Prediction; Sales Forecasting; ...</td>\n",
       "      <td>Microsoft Certified: Data Analyst Associate</td>\n",
       "    </tr>\n",
       "    <tr>\n",
       "      <th>1</th>\n",
       "      <td>Arjun Mehta</td>\n",
       "      <td>arjun.mehta@email.com</td>\n",
       "      <td>+91-9502568814</td>\n",
       "      <td>Result-driven Machine Learning Engineer with e...</td>\n",
       "      <td>Python, TensorFlow, Keras, NLP, PyTorch, Docke...</td>\n",
       "      <td>B.Tech. in Computer Science, IIT Delhi, 2017</td>\n",
       "      <td>DataX Solutions, ML Engineer (Aug 2017 – Prese...</td>\n",
       "      <td>Sentiment Analysis with BERT; Image Classifica...</td>\n",
       "      <td>Google Cloud Certified: ML Engineer</td>\n",
       "    </tr>\n",
       "    <tr>\n",
       "      <th>2</th>\n",
       "      <td>Swati Patil</td>\n",
       "      <td>swati.patil@email.com</td>\n",
       "      <td>+91-9695783104</td>\n",
       "      <td>Experienced Business Analyst passionate about ...</td>\n",
       "      <td>SQL, Excel, Tableau, Data Analytics, Power BI,...</td>\n",
       "      <td>MBA, Business Analytics, NMIMS, 2018</td>\n",
       "      <td>FinEdge Pvt Ltd, Business Analyst (May 2018 – ...</td>\n",
       "      <td>Financial Risk Dashboard; Customer Segmentation</td>\n",
       "      <td>Tableau Desktop Specialist</td>\n",
       "    </tr>\n",
       "    <tr>\n",
       "      <th>3</th>\n",
       "      <td>Neha Desai</td>\n",
       "      <td>neha.desai@email.com</td>\n",
       "      <td>+91-9326439620</td>\n",
       "      <td>Software Developer specializing in backend dev...</td>\n",
       "      <td>Java, Spring Boot, REST API, Docker, MySQL, Gi...</td>\n",
       "      <td>B.E. in Computer Engineering, VJTI, 2016</td>\n",
       "      <td>ZetaSoft, Software Developer (Jun 2016 – Prese...</td>\n",
       "      <td>E-commerce Backend Automation; RESTful API Design</td>\n",
       "      <td>Oracle Certified Java Programmer</td>\n",
       "    </tr>\n",
       "    <tr>\n",
       "      <th>4</th>\n",
       "      <td>Rahul Sinha</td>\n",
       "      <td>rahul.sinha@email.com</td>\n",
       "      <td>+91-9032384420</td>\n",
       "      <td>Versatile Data Scientist with skills in EDA, p...</td>\n",
       "      <td>Python, Data Analysis, Machine Learning, Seabo...</td>\n",
       "      <td>M.Sc. in Data Science, Christ University, 2020</td>\n",
       "      <td>NextGen Data, Data Scientist (Aug 2020 – Prese...</td>\n",
       "      <td>Product Recommendation System; Predictive Main...</td>\n",
       "      <td>IBM Data Science Professional Certificate</td>\n",
       "    </tr>\n",
       "  </tbody>\n",
       "</table>\n",
       "</div>"
      ],
      "text/plain": [
       "           Name                   Email           Phone  \\\n",
       "0  Priya Sharma  priya.sharma@email.com  +91-9340608368   \n",
       "1   Arjun Mehta   arjun.mehta@email.com  +91-9502568814   \n",
       "2   Swati Patil   swati.patil@email.com  +91-9695783104   \n",
       "3    Neha Desai    neha.desai@email.com  +91-9326439620   \n",
       "4   Rahul Sinha   rahul.sinha@email.com  +91-9032384420   \n",
       "\n",
       "                                             Summary  \\\n",
       "0  Detail-oriented Data Analyst with 3+ years of ...   \n",
       "1  Result-driven Machine Learning Engineer with e...   \n",
       "2  Experienced Business Analyst passionate about ...   \n",
       "3  Software Developer specializing in backend dev...   \n",
       "4  Versatile Data Scientist with skills in EDA, p...   \n",
       "\n",
       "                                              Skills  \\\n",
       "0  Python, SQL, Tableau, Machine Learning, Pandas...   \n",
       "1  Python, TensorFlow, Keras, NLP, PyTorch, Docke...   \n",
       "2  SQL, Excel, Tableau, Data Analytics, Power BI,...   \n",
       "3  Java, Spring Boot, REST API, Docker, MySQL, Gi...   \n",
       "4  Python, Data Analysis, Machine Learning, Seabo...   \n",
       "\n",
       "                                         Education  \\\n",
       "0  M.Sc. in Statistics, University of Mumbai, 2019   \n",
       "1     B.Tech. in Computer Science, IIT Delhi, 2017   \n",
       "2             MBA, Business Analytics, NMIMS, 2018   \n",
       "3         B.E. in Computer Engineering, VJTI, 2016   \n",
       "4   M.Sc. in Data Science, Christ University, 2020   \n",
       "\n",
       "                                          Experience  \\\n",
       "0  ABC Analytics, Data Analyst (Jul 2019 – Presen...   \n",
       "1  DataX Solutions, ML Engineer (Aug 2017 – Prese...   \n",
       "2  FinEdge Pvt Ltd, Business Analyst (May 2018 – ...   \n",
       "3  ZetaSoft, Software Developer (Jun 2016 – Prese...   \n",
       "4  NextGen Data, Data Scientist (Aug 2020 – Prese...   \n",
       "\n",
       "                                            Projects  \\\n",
       "0  Customer Churn Prediction; Sales Forecasting; ...   \n",
       "1  Sentiment Analysis with BERT; Image Classifica...   \n",
       "2    Financial Risk Dashboard; Customer Segmentation   \n",
       "3  E-commerce Backend Automation; RESTful API Design   \n",
       "4  Product Recommendation System; Predictive Main...   \n",
       "\n",
       "                                Certifications  \n",
       "0  Microsoft Certified: Data Analyst Associate  \n",
       "1          Google Cloud Certified: ML Engineer  \n",
       "2                   Tableau Desktop Specialist  \n",
       "3             Oracle Certified Java Programmer  \n",
       "4    IBM Data Science Professional Certificate  "
      ]
     },
     "execution_count": 4,
     "metadata": {},
     "output_type": "execute_result"
    }
   ],
   "source": [
    "    df.head()"
   ]
  },
  {
   "cell_type": "code",
   "execution_count": 5,
   "id": "26cbe074-a6d1-4f3c-8a4c-f488608f5e28",
   "metadata": {},
   "outputs": [
    {
     "data": {
      "text/plain": [
       "Name              0\n",
       "Email             0\n",
       "Phone             0\n",
       "Summary           0\n",
       "Skills            0\n",
       "Education         0\n",
       "Experience        0\n",
       "Projects          0\n",
       "Certifications    0\n",
       "dtype: int64"
      ]
     },
     "execution_count": 5,
     "metadata": {},
     "output_type": "execute_result"
    }
   ],
   "source": [
    "df.isnull().sum()"
   ]
  },
  {
   "cell_type": "markdown",
   "id": "9f4c281c-0f9e-4b39-b968-664e1bdd0e5d",
   "metadata": {},
   "source": [
    "## Data Overview\n",
    "\n",
    "1. The dataset consists of 25 synthetic resumes, each containing:\n",
    "- Personal Information: Name, Email, Phone\n",
    "- Professional Summary\n",
    "- Key Sections: Skills, Education, Experience, Projects, Certifications\n",
    "\n",
    "2.  Data Integrity Check:\n",
    "- Missing Values: None — all entries are complete\n",
    "- Data Types: All columns are of object (text) type — ideal for NLP-based processing\n",
    "\n",
    "\n",
    "**Inference**:\n",
    "- The dataset is complete and ready for processing. No imputation or missing value handling is required.\n",
    "-  All fields are textual, making them suitable for tokenization, vectorization, and semantic similarity techniques\n"
   ]
  },
  {
   "cell_type": "markdown",
   "id": "1aa25884-a71d-42a6-8e1b-091dc09ff662",
   "metadata": {},
   "source": [
    "##  Skills Extraction & Overlap Scoring"
   ]
  },
  {
   "cell_type": "code",
   "execution_count": 6,
   "id": "3f56b9fe-9c36-4aea-8c44-e2a2f5fe3bd9",
   "metadata": {},
   "outputs": [],
   "source": [
    "# Clean 'Skills' column \n",
    "df['Skills'] = df['Skills'].astype(str).str.lower().str.strip()"
   ]
  },
  {
   "cell_type": "code",
   "execution_count": 7,
   "id": "376621b5-481c-4fa8-9e61-fa4c55aaa929",
   "metadata": {
    "scrolled": true
   },
   "outputs": [
    {
     "name": "stdout",
     "output_type": "stream",
     "text": [
      "            Name                                             Skills  \\\n",
      "0   Priya Sharma  python, sql, tableau, machine learning, pandas...   \n",
      "5    Amit Khanna        tableau, power bi, sql, excel, dashboarding   \n",
      "16   Vikas Joshi      supply chain analytics, python, sql, power bi   \n",
      "11   Shruti Shah   r, python, statistics, data visualization, excel   \n",
      "6    Simran Kaur      python, etl, airflow, postgresql, sql, pandas   \n",
      "\n",
      "    Skill_Overlap_Score  \n",
      "0                     7  \n",
      "5                     3  \n",
      "16                    3  \n",
      "11                    3  \n",
      "6                     3  \n"
     ]
    }
   ],
   "source": [
    "# Define required skills from JD\n",
    "required_skills = [\n",
    "    'python', 'sql', 'tableau', 'power bi', 'data visualization', \n",
    "    'statistics', 'machine learning', 'pandas', 'numpy', 'scikit-learn'\n",
    "]\n",
    "\n",
    "def extract_skills(skills_text):\n",
    "    # Convert string to set of skill words\n",
    "    skills = set([skill.strip() for skill in skills_text.split(',')])\n",
    "    return skills\n",
    "\n",
    "def skill_overlap(resume_skills, jd_skills):\n",
    "    return len(resume_skills & jd_skills)\n",
    "\n",
    "# Create set of required skills for faster matching\n",
    "required_skills_set = set(required_skills)\n",
    "\n",
    "# Apply extraction and scoring\n",
    "df['Extracted_Skills'] = df['Skills'].apply(extract_skills)\n",
    "df['Skill_Overlap_Score'] = df['Extracted_Skills'].apply(lambda skills: skill_overlap(skills, required_skills_set))\n",
    "\n",
    "# Sort by overlap score (descending)\n",
    "df_sorted = df.sort_values(by='Skill_Overlap_Score', ascending=False)\n",
    "\n",
    "# See the top candidates\n",
    "print(df_sorted[['Name', 'Skills', 'Skill_Overlap_Score']].head(5))"
   ]
  },
  {
   "cell_type": "markdown",
   "id": "afd7edb3-54a7-4c6b-a925-faa6f0ea3250",
   "metadata": {},
   "source": [
    "##  Skills Extraction & Overlap Scoring\n",
    "\n",
    "- Standardized the 'Skills' field and extracted individual skills for each candidate.\n",
    "- Compared these with the required skills parsed from the Job Description (JD).\n",
    "- Calculated a **Skill Overlap Score** for each resume (number of matching skills).\n",
    "- Sorted all candidates by their overlap score to identify the strongest skill matches.\n",
    "\n",
    "**Inference**:\n",
    "- Candidates like Priya Sharma demonstrate high alignment with the job description, with a skill match of 7 out of 10.\n",
    "- This scoring approach provides a transparent, quantifiable method to prioritize resumes during screening.\n",
    "- The method can easily be adapted to different JDs by updating the required_skills list.\n",
    "\n"
   ]
  },
  {
   "cell_type": "markdown",
   "id": "ff7e3a5f-c957-4079-8b58-fdf48a05c56f",
   "metadata": {},
   "source": [
    "#### **A. Education Matching**"
   ]
  },
  {
   "cell_type": "code",
   "execution_count": 8,
   "id": "70fcc58a-62b9-4e68-9c85-f036a2defa7b",
   "metadata": {},
   "outputs": [],
   "source": [
    "# Define target degree keywords\n",
    "target_degrees = [\n",
    "    \"computer science\", \"data science\", \"statistics\", \"mathematics\", \"analytics\", \"engineering\"\n",
    "]\n",
    "\n",
    "def check_education_match(education_text):\n",
    "    text = str(education_text).lower()\n",
    "    for keyword in target_degrees:\n",
    "        if keyword in text:\n",
    "            return 1\n",
    "    return 0\n",
    "\n",
    "df['Education_Match'] = df['Education'].apply(check_education_match)\n"
   ]
  },
  {
   "cell_type": "markdown",
   "id": "8b32e456-9f2c-403e-a7c1-29365a9fa7aa",
   "metadata": {},
   "source": [
    "#### **B. Experience Extraction**"
   ]
  },
  {
   "cell_type": "code",
   "execution_count": 9,
   "id": "ad7c8302-fd1a-4208-a4ee-8d8320cdeb73",
   "metadata": {},
   "outputs": [],
   "source": [
    "\n",
    "\n",
    "def extract_years_of_experience(exp_text):\n",
    "    exp_text = str(exp_text)\n",
    "    # Look for patterns like \"2019 – Present\" or \"2017 – 2022\"\n",
    "    matches = re.findall(r'(\\d{4})\\s*[–-]\\s*(?:present|(\\d{4}))', exp_text.lower())\n",
    "    years = 0\n",
    "    for start, end in matches:\n",
    "        if end == '' or end.lower() == 'present':\n",
    "            end_year = 2025  # assuming current year\n",
    "        else:\n",
    "            end_year = int(end)\n",
    "        start_year = int(start)\n",
    "        years += max(0, end_year - start_year)\n",
    "    return years\n",
    "\n",
    "df['Years_of_Experience'] = df['Experience'].apply(extract_years_of_experience)\n"
   ]
  },
  {
   "cell_type": "markdown",
   "id": "89a3a454-4e0e-4d4c-8a30-538b0cd62e29",
   "metadata": {},
   "source": [
    "\n",
    "#### **C. Scoring and Normalization**\n"
   ]
  },
  {
   "cell_type": "code",
   "execution_count": 10,
   "id": "521ed32b-b647-4025-9c08-e796faffbbce",
   "metadata": {},
   "outputs": [
    {
     "name": "stdout",
     "output_type": "stream",
     "text": [
      "              Name  Skill_Overlap_Score  Education_Match  Years_of_Experience  \\\n",
      "0     Priya Sharma                    7                1                    6   \n",
      "5      Amit Khanna                    3                1                    8   \n",
      "2      Swati Patil                    3                1                    7   \n",
      "11     Shruti Shah                    3                1                    7   \n",
      "24   Saurabh Dutta                    3                1                    6   \n",
      "16     Vikas Joshi                    3                0                    8   \n",
      "6      Simran Kaur                    3                0                    7   \n",
      "12     Akash Verma                    3                0                    6   \n",
      "1      Arjun Mehta                    2                1                    8   \n",
      "17  Tanvi Kulkarni                    2                1                    8   \n",
      "\n",
      "    Total_Score  \n",
      "0      3.900000  \n",
      "5      1.966667  \n",
      "2      1.933333  \n",
      "11     1.933333  \n",
      "24     1.900000  \n",
      "16     1.766667  \n",
      "6      1.733333  \n",
      "12     1.700000  \n",
      "1      1.466667  \n",
      "17     1.466667  \n"
     ]
    }
   ],
   "source": [
    "# Normalize years of experience for scoring (max 8 years for scaling)\n",
    "max_years = df['Years_of_Experience'].max()\n",
    "df['Exp_Score'] = df['Years_of_Experience'] / max_years\n",
    "\n",
    "# Weighted total score\n",
    "df['Total_Score'] = (\n",
    "    0.5 * df['Skill_Overlap_Score'] +\n",
    "    0.2 * df['Education_Match'] +\n",
    "    0.3 * df['Exp_Score']\n",
    ")\n",
    "\n",
    "# Final ranking\n",
    "df_final = df.sort_values(by='Total_Score', ascending=False)\n",
    "print(df_final[['Name', 'Skill_Overlap_Score', 'Education_Match', 'Years_of_Experience', 'Total_Score']].head(10))\n"
   ]
  },
  {
   "cell_type": "markdown",
   "id": "ec545bf4-9226-4456-9907-07fcf7851670",
   "metadata": {},
   "source": [
    "## **Education & Experience Matching, Composite Scoring**\n",
    "\n",
    "- **Education Match:** Checked for presence of target degree keywords (e.g., \"Computer Science\", \"Statistics\") in each candidate's education section.\n",
    "- **Years of Experience:** Used regex to estimate years of experience from each resume's experience text.\n",
    "- **Feature Combination:** Scaled years of experience, then combined with skill and education scores for a weighted total score (0.5 skill overlap, 0.2 education match, 0.3 experience).\n",
    "- **Result:** Candidates are ranked by the composite score, providing a balanced view of skill, education, and experience fit.\n",
    "\n",
    "### Inference:\n",
    "- Priya Sharma ranked highest due to strong alignment across all three dimensions.\n",
    "- Other candidates also showed balanced profiles (e.g., Amit Khanna, Swati Patil).\n",
    "- This system provides a transparent, data-driven shortlist to recruiters."
   ]
  },
  {
   "cell_type": "markdown",
   "id": "d2f1c8e2-4a4e-4fc9-b2d9-60881029f116",
   "metadata": {},
   "source": [
    " ## Semantic Similarity Using TF-IDF\n"
   ]
  },
  {
   "cell_type": "code",
   "execution_count": 11,
   "id": "972971ee-d270-428c-bd8e-16a1ff2d86f5",
   "metadata": {
    "scrolled": true
   },
   "outputs": [
    {
     "name": "stdout",
     "output_type": "stream",
     "text": [
      "            Name  TFIDF_Similarity\n",
      "0   Priya Sharma          0.367026\n",
      "11   Shruti Shah          0.244659\n",
      "4    Rahul Sinha          0.197794\n",
      "5    Amit Khanna          0.187014\n",
      "2    Swati Patil          0.152989\n"
     ]
    }
   ],
   "source": [
    "from sklearn.feature_extraction.text import TfidfVectorizer\n",
    "from sklearn.metrics.pairwise import cosine_similarity\n",
    "\n",
    "# (Re)load/ensure Full_Text column\n",
    "text_columns = [\"Summary\", \"Skills\", \"Education\", \"Experience\", \"Projects\", \"Certifications\"]\n",
    "df['Full_Text'] = df[text_columns].apply(lambda row: ' '.join(row.values.astype(str)), axis=1)\n",
    "\n",
    "# Sample JD (as a single string)\n",
    "jd_text = \"\"\"\n",
    "We are seeking a Data Analyst with strong Python and SQL skills, experience with Tableau or Power BI, \n",
    "and understanding of data visualization, statistics, and machine learning. \n",
    "Preferred: knowledge of pandas, numpy, scikit-learn, excellent communication skills.\n",
    "\"\"\"\n",
    "\n",
    "# Combine JD and resumes for vectorization\n",
    "docs = [jd_text.lower()] + df['Full_Text'].str.lower().tolist()\n",
    "\n",
    "# TF-IDF vectorization\n",
    "vectorizer = TfidfVectorizer(stop_words='english')\n",
    "tfidf_matrix = vectorizer.fit_transform(docs)\n",
    "\n",
    "# Cosine similarity: JD is index 0, resumes are 1...\n",
    "cosine_similarities = cosine_similarity(tfidf_matrix[0:1], tfidf_matrix[1:]).flatten()\n",
    "\n",
    "# Add to DataFrame\n",
    "df['TFIDF_Similarity'] = cosine_similarities\n",
    "\n",
    "# Preview top 5 by TF-IDF similarity\n",
    "print(df[['Name', 'TFIDF_Similarity']].sort_values(by='TFIDF_Similarity', ascending=False).head(5))\n"
   ]
  },
  {
   "cell_type": "markdown",
   "id": "2ae3380a-b40e-4cf7-b0d8-5799de00857f",
   "metadata": {},
   "source": [
    "## Semantic Similarity Using TF-IDF\n",
    "\n",
    "- Created a **holistic text representation** for each resume by merging summary, skills, education, experience, projects, and certifications.\n",
    "- Calculated the **semantic similarity** between each resume and the Job Description (JD) using TF-IDF vectorization and cosine similarity.\n",
    "- This method captures not just keywords, but the contextual fit between the candidate’s full profile and the JD.\n",
    "\n",
    "**Top semantic matches:**  \n",
    "Candidates like Priya Sharma, Shruti Shah, and Rahul Sinha have high TF-IDF similarity scores, indicating strong overall alignment with the JD context and requirements.\n",
    "\n",
    "## Inference:\n",
    "- Priya Sharma remains the top match, validating her strong alignment.\n",
    "- Shruti Shah and Rahul Sinha rise in rank due to contextually rich resumes—even if keyword overlap wasn’t the highest.\n",
    "- This method helps surface well-rounded candidates who might otherwise be overlooked.\n"
   ]
  },
  {
   "cell_type": "markdown",
   "id": "53985fe3-b5a2-44b1-8a4f-568b8e0aa092",
   "metadata": {},
   "source": [
    "Combine with Previous Score"
   ]
  },
  {
   "cell_type": "code",
   "execution_count": 12,
   "id": "3ea76905-69c5-4cf1-83b9-3dda081d973a",
   "metadata": {},
   "outputs": [],
   "source": [
    "# Weighted combination: e.g., 0.7 for your previous score, 0.3 for semantic similarity\n",
    "df['Final_Combined_Score'] = 0.7 * df['Total_Score'] + 0.3 * df['TFIDF_Similarity']\n",
    "\n",
    "# Rank by this score\n",
    "df_sorted = df.sort_values(by='Final_Combined_Score', ascending=False)\n"
   ]
  },
  {
   "cell_type": "markdown",
   "id": "650f40c2-7f0a-40a8-bce2-38a4dd209e61",
   "metadata": {},
   "source": [
    "Visualization of Top Candidates"
   ]
  },
  {
   "cell_type": "code",
   "execution_count": 13,
   "id": "a7dd59be-d15a-4719-9422-2c4c99eb13ad",
   "metadata": {},
   "outputs": [
    {
     "data": {
      "image/png": "[encoded data removed]",
      "text/plain": [
       "<Figure size 1000x600 with 1 Axes>"
      ]
     },
     "metadata": {},
     "output_type": "display_data"
    },
    {
     "data": {
      "image/png": "[encoded data removed]",
      "text/plain": [
       "<Figure size 1200x700 with 1 Axes>"
      ]
     },
     "metadata": {},
     "output_type": "display_data"
    }
   ],
   "source": [
    "import matplotlib.pyplot as plt\n",
    "\n",
    "# Top 10 candidates\n",
    "top10 = df_sorted.head(10)\n",
    "\n",
    "# Plot Final Combined Score\n",
    "plt.figure(figsize=(10, 6))\n",
    "plt.barh(top10['Name'][::-1], top10['Final_Combined_Score'][::-1])\n",
    "plt.xlabel(\"Final Combined Score\")\n",
    "plt.title(\"Top 10 Resume Matches to JD\")\n",
    "plt.tight_layout()\n",
    "plt.show()\n",
    "\n",
    "# Plot breakdown (stacked bars) of Skill Overlap, Education Match, Experience Score, TF-IDF\n",
    "top10.set_index('Name')[['Skill_Overlap_Score', 'Education_Match', 'Exp_Score', 'TFIDF_Similarity']].plot(\n",
    "    kind='barh', stacked=True, figsize=(12, 7))\n",
    "plt.xlabel(\"Feature Score Breakdown\")\n",
    "plt.title(\"Feature Breakdown for Top 10 Candidates\")\n",
    "plt.tight_layout()\n",
    "plt.show()\n"
   ]
  },
  {
   "cell_type": "markdown",
   "id": "666759f2-4f16-463d-bed1-b3e470968c7e",
   "metadata": {},
   "source": [
    "##  Final Ranking & Visualization\n",
    "\n",
    "**Final Candidate Ranking:**  \n",
    "We combined the feature-based total score with the semantic similarity score (TF-IDF) for each candidate, creating a robust “Final Combined Score” that balances explicit skill/experience/education fit with overall resume-to-JD context.\n",
    "\n",
    "### Visual Insights\n",
    "#### 1. Top 10 Candidates - Combined Score\n",
    "- Bar chart ranks resumes based on their final score.\n",
    "- Shows clear standouts, led by Priya Sharma.\n",
    "*See: “Top 10 Resume Matches to JD” plot.*\n",
    "\n",
    "#### 2. Feature Breakdown\n",
    "- Stacked bar chart breaks down each candidate’s score by contributing factors:\n",
    "\n",
    "1. Skill Match\n",
    "2. Education Relevance\n",
    "3. Years of Experience\n",
    "4. TF-IDF Similarity\n",
    "- Helps recruiters understand why a candidate is highly ranked.\n",
    "*See: “Feature Breakdown for Top 10 Candidates” plot.*\n",
    "\n",
    "---\n",
    "\n",
    "### **Inference**\n",
    "\n",
    "- Candidates like Priya Sharma and Shruti Shah are clear top picks—balanced across hard and soft scoring factors.\n",
    "\n",
    "- This system:\n",
    "1. Makes shortlisting data-driven\n",
    "2. Offers transparent, justifiable rankings\n",
    "3. Is scalable and reusable across job roles\n",
    "\n",
    "\n",
    "---\n",
    "\n",
    "**This approach makes resume screening objective, transparent, and easy to scale for any role or dataset.**\n"
   ]
  },
  {
   "cell_type": "markdown",
   "id": "f7f9b812-906a-4b3d-b293-a19f9dd37a29",
   "metadata": {},
   "source": [
    "## Export to CSV "
   ]
  },
  {
   "cell_type": "code",
   "execution_count": 14,
   "id": "a8196771-8ef7-459b-958d-f5077597aa8f",
   "metadata": {},
   "outputs": [],
   "source": [
    "    # ...Load resumes...\n",
    "    # ...Extract features, run scoring, as above...\n",
    "    \n",
    "    # At the end, export the enriched DataFrame\n",
    "    df.to_csv(\"synthetic_resumes_scored.csv\", index=False)\n"
   ]
  },
  {
   "cell_type": "code",
   "execution_count": 15,
   "id": "0734357e-a214-4618-9782-25afff2a34b0",
   "metadata": {},
   "outputs": [],
   "source": [
    "df = pd.read_csv(\"synthetic_resumes_scored.csv\")\n"
   ]
  },
  {
   "cell_type": "code",
   "execution_count": 16,
   "id": "ff41d179-ead0-4109-ab8f-de86ab780823",
   "metadata": {},
   "outputs": [
    {
     "name": "stdout",
     "output_type": "stream",
     "text": [
      "Index(['Name', 'Email', 'Phone', 'Summary', 'Skills', 'Education',\n",
      "       'Experience', 'Projects', 'Certifications', 'Extracted_Skills',\n",
      "       'Skill_Overlap_Score', 'Education_Match', 'Years_of_Experience',\n",
      "       'Exp_Score', 'Total_Score', 'Full_Text', 'TFIDF_Similarity',\n",
      "       'Final_Combined_Score'],\n",
      "      dtype='object')\n"
     ]
    }
   ],
   "source": [
    "print(df.columns)\n",
    "\n"
   ]
  },
  {
   "cell_type": "markdown",
   "id": "f8a9c4d4-94a5-48c7-9a1c-d387b4ada4e2",
   "metadata": {},
   "source": [
    "## Final Score-Based Ranking"
   ]
  },
  {
   "cell_type": "code",
   "execution_count": 17,
   "id": "38030387-73c1-4a58-9c10-5efc0de34b27",
   "metadata": {},
   "outputs": [],
   "source": [
    "df_sorted = df.sort_values(by='Final_Combined_Score', ascending=False)"
   ]
  },
  {
   "cell_type": "code",
   "execution_count": 18,
   "id": "a5f25127-65da-4fe9-b38a-1ff6396edd35",
   "metadata": {},
   "outputs": [],
   "source": [
    "topn = df_sorted.head(10)\n"
   ]
  },
  {
   "cell_type": "code",
   "execution_count": 19,
   "id": "a793d5fe-c676-4a57-bcff-be1d706202d9",
   "metadata": {},
   "outputs": [
    {
     "name": "stdout",
     "output_type": "stream",
     "text": [
      "              Name                     Email           Phone  \\\n",
      "0     Priya Sharma    priya.sharma@email.com  +91-9340608368   \n",
      "5      Amit Khanna     amit.khanna@email.com  +91-9029965713   \n",
      "11     Shruti Shah     shruti.shah@email.com  +91-9545381140   \n",
      "2      Swati Patil     swati.patil@email.com  +91-9695783104   \n",
      "24   Saurabh Dutta   saurabh.dutta@email.com  +91-9720652920   \n",
      "16     Vikas Joshi     vikas.joshi@email.com  +91-9287262422   \n",
      "6      Simran Kaur     simran.kaur@email.com  +91-9370587838   \n",
      "12     Akash Verma     akash.verma@email.com  +91-9802175820   \n",
      "17  Tanvi Kulkarni  tanvi.kulkarni@email.com  +91-9143674795   \n",
      "1      Arjun Mehta     arjun.mehta@email.com  +91-9502568814   \n",
      "\n",
      "                                              Summary  \\\n",
      "0   Detail-oriented Data Analyst with 3+ years of ...   \n",
      "5   Business Intelligence Analyst with hands-on ex...   \n",
      "11  Statistical Analyst with strong R and Python s...   \n",
      "2   Experienced Business Analyst passionate about ...   \n",
      "24  Customer Insights Analyst specializing in chur...   \n",
      "16  Operations Analyst experienced in supply chain...   \n",
      "6   Python Developer with a focus on data pipeline...   \n",
      "12  Product Analyst skilled in hypothesis testing ...   \n",
      "17  BI Developer skilled in SQL, Power BI, and Exc...   \n",
      "1   Result-driven Machine Learning Engineer with e...   \n",
      "\n",
      "                                               Skills  \\\n",
      "0   python, sql, tableau, machine learning, pandas...   \n",
      "5         tableau, power bi, sql, excel, dashboarding   \n",
      "11   r, python, statistics, data visualization, excel   \n",
      "2   sql, excel, tableau, data analytics, power bi,...   \n",
      "24    sql, python, churn analysis, data visualization   \n",
      "16      supply chain analytics, python, sql, power bi   \n",
      "6       python, etl, airflow, postgresql, sql, pandas   \n",
      "12  product analytics, sql, python, tableau, a/b t...   \n",
      "17        sql, power bi, excel, automation, reporting   \n",
      "1   python, tensorflow, keras, nlp, pytorch, docke...   \n",
      "\n",
      "                                            Education  \\\n",
      "0     M.Sc. in Statistics, University of Mumbai, 2019   \n",
      "5      B.Sc. in Mathematics, University of Pune, 2017   \n",
      "11             M.Sc. in Statistics, ISI Kolkata, 2018   \n",
      "2                MBA, Business Analytics, NMIMS, 2018   \n",
      "24      M.Sc. in Statistics, University of Pune, 2020   \n",
      "16                     BBA in Operations, NMIMS, 2017   \n",
      "6   B.Tech. in Information Technology, NIT Trichy,...   \n",
      "12       MBA, Product Management, IIM Bangalore, 2018   \n",
      "17  B.Sc. in Computer Science, Fergusson College, ...   \n",
      "1        B.Tech. in Computer Science, IIT Delhi, 2017   \n",
      "\n",
      "                                           Experience  \\\n",
      "0   ABC Analytics, Data Analyst (Jul 2019 – Presen...   \n",
      "5   Insight BI, BI Analyst (Jul 2017 – Present); C...   \n",
      "11  StatWorks, Statistical Analyst (Jul 2018 – Pre...   \n",
      "2   FinEdge Pvt Ltd, Business Analyst (May 2018 – ...   \n",
      "24  CustInsights, Insights Analyst (Apr 2019 – Pre...   \n",
      "16  OpsEdge, Operations Analyst (Nov 2017 – Presen...   \n",
      "6   FlowData Inc., Python Developer (Oct 2018 – Pr...   \n",
      "12  MarketPro, Product Analyst (Feb 2019 – Present...   \n",
      "17  DashboardX, BI Developer (Jan 2017 – Present);...   \n",
      "1   DataX Solutions, ML Engineer (Aug 2017 – Prese...   \n",
      "\n",
      "                                             Projects  \\\n",
      "0   Customer Churn Prediction; Sales Forecasting; ...   \n",
      "5   Executive Dashboard for Sales; Marketing Perfo...   \n",
      "11  Statistical Report Generator; Market Research ...   \n",
      "2     Financial Risk Dashboard; Customer Segmentation   \n",
      "24      Attrition Prediction Model; Feedback Analysis   \n",
      "16  Inventory Optimization; Vendor Performance Ana...   \n",
      "6   ETL Automation for Retail Data; Data Quality C...   \n",
      "12  Product Launch Impact Analysis; Customer Surve...   \n",
      "17  Automated Report Scheduling; Dashboard Integrator   \n",
      "1   Sentiment Analysis with BERT; Image Classifica...   \n",
      "\n",
      "                                 Certifications  \\\n",
      "0   Microsoft Certified: Data Analyst Associate   \n",
      "5                   Tableau Certified Associate   \n",
      "11           Coursera Statistics Specialization   \n",
      "2                    Tableau Desktop Specialist   \n",
      "24               Data Visualization with Python   \n",
      "16                         Six Sigma Green Belt   \n",
      "6                       AWS Certified Developer   \n",
      "12                 Product Analytics Nanodegree   \n",
      "17                  Excel Automation Specialist   \n",
      "1           Google Cloud Certified: ML Engineer   \n",
      "\n",
      "                                     Extracted_Skills  Skill_Overlap_Score  \\\n",
      "0   {'python', 'tableau', 'pandas', 'scikit-learn'...                    7   \n",
      "5   {'tableau', 'excel', 'power bi', 'dashboarding...                    3   \n",
      "11  {'python', 'data visualization', 'statistics',...                    3   \n",
      "2   {'data analytics', 'tableau', 'python (basic)'...                    3   \n",
      "24  {'python', 'data visualization', 'churn analys...                    3   \n",
      "16  {'python', 'power bi', 'supply chain analytics...                    3   \n",
      "6   {'etl', 'python', 'postgresql', 'airflow', 'pa...                    3   \n",
      "12  {'python', 'tableau', 'sql', 'a/b testing', 'p...                    3   \n",
      "17  {'automation', 'reporting', 'excel', 'power bi...                    2   \n",
      "1   {'git', 'rest apis', 'python', 'docker', 'kera...                    2   \n",
      "\n",
      "    Education_Match  Years_of_Experience  Exp_Score  Total_Score  \\\n",
      "0                 1                    6   0.666667     3.900000   \n",
      "5                 1                    8   0.888889     1.966667   \n",
      "11                1                    7   0.777778     1.933333   \n",
      "2                 1                    7   0.777778     1.933333   \n",
      "24                1                    6   0.666667     1.900000   \n",
      "16                0                    8   0.888889     1.766667   \n",
      "6                 0                    7   0.777778     1.733333   \n",
      "12                0                    6   0.666667     1.700000   \n",
      "17                1                    8   0.888889     1.466667   \n",
      "1                 1                    8   0.888889     1.466667   \n",
      "\n",
      "                                            Full_Text  TFIDF_Similarity  \\\n",
      "0   Detail-oriented Data Analyst with 3+ years of ...          0.367026   \n",
      "5   Business Intelligence Analyst with hands-on ex...          0.187014   \n",
      "11  Statistical Analyst with strong R and Python s...          0.244659   \n",
      "2   Experienced Business Analyst passionate about ...          0.152989   \n",
      "24  Customer Insights Analyst specializing in chur...          0.142275   \n",
      "16  Operations Analyst experienced in supply chain...          0.062405   \n",
      "6   Python Developer with a focus on data pipeline...          0.104557   \n",
      "12  Product Analyst skilled in hypothesis testing ...          0.044372   \n",
      "17  BI Developer skilled in SQL, Power BI, and Exc...          0.123827   \n",
      "1   Result-driven Machine Learning Engineer with e...          0.058097   \n",
      "\n",
      "    Final_Combined_Score  \n",
      "0               2.840108  \n",
      "5               1.432771  \n",
      "11              1.426731  \n",
      "2               1.399230  \n",
      "24              1.372683  \n",
      "16              1.255388  \n",
      "6               1.244700  \n",
      "12              1.203311  \n",
      "17              1.063815  \n",
      "1               1.044096  \n"
     ]
    }
   ],
   "source": [
    "print (topn)"
   ]
  },
  {
   "cell_type": "markdown",
   "id": "12f878fb-51fd-4373-8813-6196a5d2775b",
   "metadata": {},
   "source": [
    "## Exporting, Reloading, and Sharing Results\n",
    "\n",
    "- Exporting the final DataFrame enables easy sharing, reproducibility, and dashboard integration.\n",
    "- The Final_Combined_Score incorporates both structured feature matching and semantic relevance, resulting in a balanced, transparent ranking.\n",
    "- The top candidates (like Priya Sharma, Shruti Shah, etc.) were consistently strong across both keyword and context-based criteria.\n",
    "- This approach ensures that well-rounded candidates—not just those who keyword-stuffed—are highlighted for recruiter review.\n",
    "\n"
   ]
  },
  {
   "cell_type": "code",
   "execution_count": null,
   "id": "5f6e0304-6a15-4e9f-82d8-5a6256649768",
   "metadata": {},
   "outputs": [],
   "source": []
  },
  {
   "cell_type": "code",
   "execution_count": null,
   "id": "293a9ef2-f5d1-44eb-b402-e38c60f5294d",
   "metadata": {},
   "outputs": [],
   "source": []
  },
  {
   "cell_type": "code",
   "execution_count": null,
   "id": "66dfbd3d-c8a8-48fc-af10-4ba52e1a0da2",
   "metadata": {},
   "outputs": [],
   "source": []
  },
  {
   "cell_type": "code",
   "execution_count": null,
   "id": "643ad090-10f5-495c-97c4-4559c4d816e4",
   "metadata": {},
   "outputs": [],
   "source": []
  },
  {
   "cell_type": "code",
   "execution_count": 20,
   "id": "aa2002f8-8845-438f-bb61-1b8185364f75",
   "metadata": {},
   "outputs": [
    {
     "data": {
      "text/markdown": [
       "## Resume Screening Dashboard"
      ],
      "text/plain": [
       "<IPython.core.display.Markdown object>"
      ]
     },
     "metadata": {},
     "output_type": "display_data"
    },
    {
     "data": {
      "text/markdown": [
       "#### Use the interactive filters below to shortlist candidates."
      ],
      "text/plain": [
       "<IPython.core.display.Markdown object>"
      ]
     },
     "metadata": {},
     "output_type": "display_data"
    }
   ],
   "source": [
    "from IPython.display import display, Markdown\n",
    "display(Markdown(\"## Resume Screening Dashboard\"))\n",
    "display(Markdown(\"#### Use the interactive filters below to shortlist candidates.\"))\n"
   ]
  },
  {
   "cell_type": "code",
   "execution_count": 21,
   "id": "5ddec595-91a8-473e-bbac-1866d29b0566",
   "metadata": {},
   "outputs": [
    {
     "data": {
      "application/vnd.jupyter.widget-view+json": {
       "model_id": "c075a8a07da340d09f9c14ed10393f32",
       "version_major": 2,
       "version_minor": 0
      },
      "text/plain": [
       "IntSlider(value=0)"
      ]
     },
     "execution_count": 21,
     "metadata": {},
     "output_type": "execute_result"
    }
   ],
   "source": [
    "import ipywidgets as widgets\n",
    "widgets.IntSlider()\n"
   ]
  },
  {
   "cell_type": "code",
   "execution_count": 22,
   "id": "c1bd4e82-867d-48ec-b9bd-22e44f3978ed",
   "metadata": {
    "scrolled": true
   },
   "outputs": [
    {
     "data": {
      "application/vnd.jupyter.widget-view+json": {
       "model_id": "d07cb15c78754f15936be75e686aa026",
       "version_major": 2,
       "version_minor": 0
      },
      "text/plain": [
       "Dropdown(description='Candidate:', options=('Priya Sharma', 'Amit Khanna', 'Shruti Shah', 'Swati Patil', 'Saur…"
      ]
     },
     "metadata": {},
     "output_type": "display_data"
    },
    {
     "data": {
      "application/vnd.jupyter.widget-view+json": {
       "model_id": "81bf28aa2986419eba3cca6d943baef0",
       "version_major": 2,
       "version_minor": 0
      },
      "text/plain": [
       "Output()"
      ]
     },
     "metadata": {},
     "output_type": "display_data"
    }
   ],
   "source": [
    "import ipywidgets as widgets\n",
    "from IPython.display import display, clear_output\n",
    "\n",
    "dropdown = widgets.Dropdown(\n",
    "    options=topn['Name'],\n",
    "    description='Candidate:',\n",
    "    disabled=False,\n",
    ")\n",
    "\n",
    "output = widgets.Output()\n",
    "\n",
    "def on_change(change):\n",
    "    if change['type'] == 'change' and change['name'] == 'value':\n",
    "        with output:\n",
    "            clear_output()\n",
    "            candidate = df_sorted[df_sorted['Name'] == change['new']]\n",
    "            display(candidate.T)\n",
    "\n",
    "dropdown.observe(on_change)\n",
    "display(dropdown, output)\n"
   ]
  },
  {
   "cell_type": "markdown",
   "id": "09a98b98-5533-4b2b-9335-3f18e2a9ab7a",
   "metadata": {},
   "source": [
    "Filter by Minimum Years of Experience"
   ]
  },
  {
   "cell_type": "code",
   "execution_count": 23,
   "id": "143136ed-08e7-4055-85d3-b13eb3309dfc",
   "metadata": {},
   "outputs": [
    {
     "data": {
      "application/vnd.jupyter.widget-view+json": {
       "model_id": "d0941963960a4d85bdeedc2313e4fb7b",
       "version_major": 2,
       "version_minor": 0
      },
      "text/plain": [
       "interactive(children=(IntSlider(value=0, description='Min Years:', max=9), Output()), _dom_classes=('widget-in…"
      ]
     },
     "execution_count": 23,
     "metadata": {},
     "output_type": "execute_result"
    }
   ],
   "source": [
    "import ipywidgets as widgets\n",
    "from IPython.display import display, clear_output\n",
    "\n",
    "def filter_and_display(min_years):\n",
    "    filtered = df_sorted[df_sorted['Years_of_Experience'] >= min_years]\n",
    "    display(filtered[['Name', 'Years_of_Experience', 'Final_Combined_Score', 'Skill_Overlap_Score']].head(20))\n",
    "\n",
    "slider = widgets.IntSlider(value=0, min=0, max=int(df_sorted['Years_of_Experience'].max()), step=1, description='Min Years:')\n",
    "widgets.interactive(filter_and_display, min_years=slider)\n"
   ]
  },
  {
   "cell_type": "code",
   "execution_count": 24,
   "id": "b9a0bf14-1dfd-468d-94e0-808ee7a54133",
   "metadata": {},
   "outputs": [
    {
     "data": {
      "application/vnd.jupyter.widget-view+json": {
       "model_id": "1f0a4baf562a4226a555de02e552ad25",
       "version_major": 2,
       "version_minor": 0
      },
      "text/plain": [
       "interactive(children=(IntSlider(value=0, description='Min Years:', max=9), Output()), _dom_classes=('widget-in…"
      ]
     },
     "execution_count": 24,
     "metadata": {},
     "output_type": "execute_result"
    }
   ],
   "source": [
    "import io\n",
    "from IPython.display import FileLink\n",
    "\n",
    "def export_filtered(min_years):\n",
    "    filtered = df_sorted[df_sorted['Years_of_Experience'] >= min_years]\n",
    "    file_name = f\"Filtered_Resumes_{min_years}yrs.csv\"\n",
    "    filtered.to_csv(file_name, index=False)\n",
    "    display(FileLink(file_name))\n",
    "\n",
    "widgets.interactive(export_filtered, min_years=slider)\n"
   ]
  },
  {
   "cell_type": "markdown",
   "id": "d2abc32f-99b1-4904-826b-b4296236d366",
   "metadata": {},
   "source": [
    "### Interactive Resume Screening Dashboard – Inference\n",
    " To make resume screening more intuitive and recruiter-friendly, an interactive dashboard was developed using ipywidgets within Jupyter Notebook. This allows HR teams to:\n",
    "- Candidate Filtering by Name\n",
    "1. A dropdown menu allows users to select any top candidate by name.\n",
    "2. On selection, a full transposed resume profile is displayed instantly.\n",
    "3. Enables quick review without manual scrolling through rows.\n",
    "\n",
    "- Slider-Based Filtering by Experience\n",
    "1. An interactive slider filters candidates based on a minimum number of years of experience.\n",
    "2. The filtered results include:\n",
    " - Candidate name\n",
    " - Years of experience\n",
    " - Skill overlap\n",
    " - Final composite score\n",
    "\n",
    "\n",
    "\n"
   ]
  },
  {
   "cell_type": "markdown",
   "id": "076c2810-eb29-483d-92b8-510a4e59085c",
   "metadata": {},
   "source": [
    "## **Conclusion**"
   ]
  },
  {
   "cell_type": "markdown",
   "id": "1fb3d634-b77a-4ff0-bec8-6ab8f4189d93",
   "metadata": {},
   "source": [
    "This project successfully developed an Automated Resume Screening System that leverages Natural Language Processing (NLP) and Machine Learning to streamline the candidate shortlisting process for hiring teams.\n",
    "\n",
    "Through a structured, multi-step pipeline, the system:\n",
    "\n",
    "- Parsed and preprocessed resume data from multiple sections (Skills, Education, Experience, etc.)\n",
    "- Extracted meaningful features such as skill overlap, education match, and years of experience\n",
    "- Applied TF-IDF-based semantic similarity to measure how closely a candidate’s full profile aligns with the job description\n",
    "- Combined both structured and contextual insights into a Final Composite Score to rank resumes fairly and objectively\n",
    "\n",
    "Additionally, the project included a Jupyter Notebook-based interactive dashboard using ipywidgets, allowing users to:\n",
    "- Dynamically explore candidates\n",
    "- Filter by years of experience\n",
    "- View full profiles on demand\n",
    "- Export filtered shortlists to CSV\n",
    "\n",
    "Key Outcomes:\n",
    "- Enabled data-driven, explainable hiring decisions\n",
    "- Reduced manual screening time\n",
    "- Increased the chance of surfacing well-rounded candidates who align with the role both technically and contextually\n",
    "\n",
    " Scalability & Next Steps:\n",
    "- This solution is designed to be:\n",
    "- Scalable across job roles (just update the JD)\n",
    "- Easy to integrate into ATS systems or deploy as a Streamlit app\n",
    "- Extensible with more advanced NLP techniques (e.g., BERT, entity recognition)\n",
    "\n",
    " **Conclusion**\n",
    " This end-to-end system proves how AI and NLP can enhance recruitment by making the screening process faster, fairer, and smarter—ultimately helping organizations find the best-fit talent with ease.\n"
   ]
  },
  {
   "cell_type": "code",
   "execution_count": null,
   "id": "f351a034-7671-4539-83af-ee89f5d4180c",
   "metadata": {},
   "outputs": [],
   "source": []
  },
  {
   "cell_type": "code",
   "execution_count": null,
   "id": "b32ff42d-03b5-4839-90d7-5efdce67c09b",
   "metadata": {},
   "outputs": [],
   "source": []
  },
  {
   "cell_type": "code",
   "execution_count": null,
   "id": "7a192c02-a84b-457e-b732-d4d03657887f",
   "metadata": {},
   "outputs": [],
   "source": []
  },
  {
   "cell_type": "code",
   "execution_count": null,
   "id": "07896498-68de-427d-bbfe-052ab2a42847",
   "metadata": {},
   "outputs": [],
   "source": []
  },
  {
   "cell_type": "code",
   "execution_count": null,
   "id": "15f54465-72d6-418f-a34a-1f382179502e",
   "metadata": {},
   "outputs": [],
   "source": []
  },
  {
   "cell_type": "code",
   "execution_count": null,
   "id": "fb31c1e5-54b5-4d0d-9821-6f4fade7433c",
   "metadata": {},
   "outputs": [],
   "source": []
  },
  {
   "cell_type": "code",
   "execution_count": null,
   "id": "0513b16e-1acd-45bf-8125-ea682e6c931e",
   "metadata": {},
   "outputs": [],
   "source": []
  },
  {
   "cell_type": "code",
   "execution_count": null,
   "id": "f67d76e9-6b3f-441c-a489-4d4f550065aa",
   "metadata": {},
   "outputs": [],
   "source": []
  },
  {
   "cell_type": "code",
   "execution_count": null,
   "id": "961bee92-a449-48fa-b6a2-053541a5b72e",
   "metadata": {},
   "outputs": [],
   "source": []
  },
  {
   "cell_type": "code",
   "execution_count": null,
   "id": "40386d7f-dc33-48bb-98ec-a5c8ff5aeb0c",
   "metadata": {},
   "outputs": [],
   "source": []
  },
  {
   "cell_type": "code",
   "execution_count": null,
   "id": "5fdab9c1-9610-48a2-987f-2ed044c35603",
   "metadata": {},
   "outputs": [],
   "source": []
  },
  {
   "cell_type": "code",
   "execution_count": null,
   "id": "76551b2f-d5b6-439e-ad35-b897dd1035cf",
   "metadata": {},
   "outputs": [],
   "source": []
  },
  {
   "cell_type": "code",
   "execution_count": null,
   "id": "62869eca-7d7c-43a2-8b90-d45bd8950e6e",
   "metadata": {},
   "outputs": [],
   "source": []
  },
  {
   "cell_type": "code",
   "execution_count": null,
   "id": "d44342c2-f9df-4856-b5f3-51a4db1ae8a0",
   "metadata": {},
   "outputs": [],
   "source": []
  },
  {
   "cell_type": "code",
   "execution_count": null,
   "id": "98b88d6d-1e7b-48ef-9a78-f45b6d8f8836",
   "metadata": {},
   "outputs": [],
   "source": []
  },
  {
   "cell_type": "code",
   "execution_count": null,
   "id": "5ad7cd7e-fda3-44b3-8ad9-1ff0cc77115e",
   "metadata": {},
   "outputs": [],
   "source": []
  },
  {
   "cell_type": "code",
   "execution_count": null,
   "id": "1e8937d7-d0aa-4a49-8126-28fa3e888853",
   "metadata": {},
   "outputs": [],
   "source": []
  },
  {
   "cell_type": "code",
   "execution_count": null,
   "id": "9c00b904-3891-4006-838d-c3ce8aa56c73",
   "metadata": {},
   "outputs": [],
   "source": []
  },
  {
   "cell_type": "code",
   "execution_count": null,
   "id": "93cb3d86-6417-4935-9f1f-0d891f13d7ef",
   "metadata": {},
   "outputs": [],
   "source": []
  },
  {
   "cell_type": "code",
   "execution_count": null,
   "id": "5ccf4c99-11ba-411a-9edf-7c06b2ad0f9d",
   "metadata": {},
   "outputs": [],
   "source": []
  },
  {
   "cell_type": "code",
   "execution_count": null,
   "id": "6eb8f154-76e1-4491-b99e-8e603d0a7d01",
   "metadata": {},
   "outputs": [],
   "source": []
  },
  {
   "cell_type": "code",
   "execution_count": null,
   "id": "c7abf5e9-5704-4497-9bef-c6604a870fc3",
   "metadata": {},
   "outputs": [],
   "source": []
  },
  {
   "cell_type": "code",
   "execution_count": null,
   "id": "2c25183d-d7d9-4e80-8d17-8d37d77c4e3e",
   "metadata": {},
   "outputs": [],
   "source": []
  },
  {
   "cell_type": "code",
   "execution_count": null,
   "id": "1bf6e6fb-cdcb-41c5-8274-b18911ffa8af",
   "metadata": {},
   "outputs": [],
   "source": []
  },
  {
   "cell_type": "code",
   "execution_count": null,
   "id": "c18aee47-6d52-44b5-8807-eb8e71db7e84",
   "metadata": {},
   "outputs": [],
   "source": []
  },
  {
   "cell_type": "code",
   "execution_count": null,
   "id": "56e003d3-d5cb-4a45-941a-a65aae4d2752",
   "metadata": {},
   "outputs": [],
   "source": []
  },
  {
   "cell_type": "code",
   "execution_count": null,
   "id": "84f61500-1aa4-48dc-b6d5-d39f05bfdcfb",
   "metadata": {},
   "outputs": [],
   "source": []
  },
  {
   "cell_type": "code",
   "execution_count": null,
   "id": "47d27279-0bc2-4dd1-88bf-4089f75803c2",
   "metadata": {},
   "outputs": [],
   "source": []
  },
  {
   "cell_type": "code",
   "execution_count": null,
   "id": "c652b4dc-80b7-4b6d-9a9d-e9514fc75d70",
   "metadata": {},
   "outputs": [],
   "source": []
  },
  {
   "cell_type": "code",
   "execution_count": null,
   "id": "6cd59b3a-69b1-487f-a36f-bc14b319c0dc",
   "metadata": {},
   "outputs": [],
   "source": []
  },
  {
   "cell_type": "code",
   "execution_count": null,
   "id": "f337fb0e-bbc1-44e3-8202-eae18ce77e0b",
   "metadata": {},
   "outputs": [],
   "source": []
  },
  {
   "cell_type": "code",
   "execution_count": null,
   "id": "e974814d-dd76-4207-8877-40397c9ef74c",
   "metadata": {},
   "outputs": [],
   "source": []
  },
  {
   "cell_type": "code",
   "execution_count": null,
   "id": "b721f330-3bde-44f0-bb53-f3c3d1f9e017",
   "metadata": {},
   "outputs": [],
   "source": []
  },
  {
   "cell_type": "code",
   "execution_count": null,
   "id": "b9973286-ea70-460a-b865-bceaae974cb0",
   "metadata": {},
   "outputs": [],
   "source": []
  },
  {
   "cell_type": "code",
   "execution_count": null,
   "id": "57fb5637-5279-4adc-9e52-c638e31a6efe",
   "metadata": {},
   "outputs": [],
   "source": []
  },
  {
   "cell_type": "code",
   "execution_count": null,
   "id": "9b71b8fb-8a52-4614-bea2-2ce4469f1b88",
   "metadata": {},
   "outputs": [],
   "source": []
  },
  {
   "cell_type": "code",
   "execution_count": null,
   "id": "92d2d9de-4e65-4d89-95f1-02e3f2ecc5c5",
   "metadata": {},
   "outputs": [],
   "source": []
  },
  {
   "cell_type": "code",
   "execution_count": null,
   "id": "00906302-455a-451c-9b68-ba8e4c191ac7",
   "metadata": {},
   "outputs": [],
   "source": []
  },
  {
   "cell_type": "code",
   "execution_count": null,
   "id": "0dc39074-2fd6-4787-9eae-a0547c02ba54",
   "metadata": {},
   "outputs": [],
   "source": []
  },
  {
   "cell_type": "code",
   "execution_count": null,
   "id": "a30b1b1c-af9b-4b8c-ad67-8c82625028dd",
   "metadata": {},
   "outputs": [],
   "source": []
  },
  {
   "cell_type": "code",
   "execution_count": null,
   "id": "471d7530-b822-4625-a0d3-680e53df01af",
   "metadata": {},
   "outputs": [],
   "source": []
  },
  {
   "cell_type": "code",
   "execution_count": null,
   "id": "b8c7d3ef-1617-459a-9688-44a7ce1c5892",
   "metadata": {},
   "outputs": [],
   "source": []
  },
  {
   "cell_type": "code",
   "execution_count": null,
   "id": "0e10babd-9066-457c-a7e4-3adff9bd2b96",
   "metadata": {},
   "outputs": [],
   "source": []
  }
 ],
 "metadata": {
  "kernelspec": {
   "display_name": "Python 3 (ipykernel)",
   "language": "python",
   "name": "python3"
  },
  "language_info": {
   "codemirror_mode": {
    "name": "ipython",
    "version": 3
   },
   "file_extension": ".py",
   "mimetype": "text/x-python",
   "name": "python",
   "nbconvert_exporter": "python",
   "pygments_lexer": "ipython3",
   "version": "3.12.3"
  }
 },
 "nbformat": 4,
 "nbformat_minor": 5
}
